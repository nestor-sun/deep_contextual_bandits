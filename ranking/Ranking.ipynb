{
 "cells": [
  {
   "cell_type": "code",
   "execution_count": 124,
   "metadata": {},
   "outputs": [],
   "source": [
    "%matplotlib inline\n",
    "\n",
    "import matplotlib as mpl\n",
    "import matplotlib.pyplot as plt\n",
    "\n",
    "import numpy as np\n",
    "import itertools\n",
    "from itertools import permutations\n",
    "from tensorflow import keras\n",
    "from tensorflow.keras import layers\n",
    "\n",
    "# Top k-Ranking \n",
    "\n",
    "class MAB:\n",
    "    def __init__(self, arms_len, max_k, nnet, mode):\n",
    "        self.arms_len = arms_len\n",
    "        self.max_k = max_k\n",
    "        self.nnet = nnet\n",
    "        self.mode = mode\n",
    "        \n",
    "        self.rewards = []\n",
    "        self.arms_reward = np.zeros(self.arms_len)\n",
    "        self.arms_expectation = np.zeros(self.arms_len)\n",
    "        self.arms_expectation_counts = np.zeros(self.arms_len)\n",
    "        \n",
    "    def choose_arms(self):\n",
    "        if self.mode == 'rand':\n",
    "            return np.random.permutation(self.arms_len)[0:self.max_k]\n",
    "        elif self.mode == 'epsilon_greedy':\n",
    "            if np.random.random_sample()<0.1:\n",
    "                return np.random.permutation(self.arms_len)[0:self.max_k]\n",
    "            else:\n",
    "                arms_expectation_sorted_index = np.flip(np.argsort(self.arms_expectation))\n",
    "                return arms_expectation_sorted_index[0:self.max_k]\n",
    "        elif self.mode == 'max_expectation':\n",
    "            arms_expectation_sorted_index = np.flip(np.argsort(self.arms_expectation))\n",
    "            return arms_expectation_sorted_index[0:self.max_k]\n",
    "        elif self.mode == 'optimal':\n",
    "            return np.array([5, 6])\n",
    "    \n",
    "    def set_reward(self, arms, reward):\n",
    "        self.rewards.append((arms, reward))\n",
    "        for arm in arms:\n",
    "            arm = int(arm)\n",
    "            self.arms_reward[arm] += reward\n",
    "            self.arms_expectation_counts[arm] += 1\n",
    "            self.arms_expectation[arm] = self.arms_reward[arm]/self.arms_expectation_counts[arm]\n",
    "\n",
    "def get_convnet():\n",
    "    # Model / data parameters\n",
    "    num_classes = 10\n",
    "    input_shape = (28, 28, 1)\n",
    "\n",
    "    # the data, split between train and test sets\n",
    "    (x_train, y_train), (x_test, y_test) = keras.datasets.mnist.load_data()\n",
    "\n",
    "    # Scale images to the [0, 1] range\n",
    "    x_train = x_train.astype(\"float32\") / 255\n",
    "    x_test = x_test.astype(\"float32\") / 255\n",
    "    # Make sure images have shape (28, 28, 1)\n",
    "    x_train = np.expand_dims(x_train, -1)\n",
    "    x_test = np.expand_dims(x_test, -1)\n",
    "    print(\"x_train shape:\", x_train.shape)\n",
    "    print(x_train.shape[0], \"train samples\")\n",
    "    print(x_test.shape[0], \"test samples\")\n",
    "\n",
    "\n",
    "    # convert class vectors to binary class matrices\n",
    "    y_train = keras.utils.to_categorical(y_train, num_classes)\n",
    "    y_test = keras.utils.to_categorical(y_test, num_classes)\n",
    "    \n",
    "    model = keras.Sequential(\n",
    "        [\n",
    "            keras.Input(shape=input_shape),\n",
    "            layers.Conv2D(32, kernel_size=(3, 3), activation=\"relu\"),\n",
    "            layers.MaxPooling2D(pool_size=(2, 2)),\n",
    "            layers.Conv2D(64, kernel_size=(3, 3), activation=\"relu\"),\n",
    "            layers.MaxPooling2D(pool_size=(2, 2)),\n",
    "            layers.Flatten(),\n",
    "            layers.Dropout(0.5),\n",
    "            layers.Dense(num_classes, activation=\"softmax\"),\n",
    "        ]\n",
    "    )\n",
    "\n",
    "    model.summary()\n",
    "    \n",
    "    batch_size = 128\n",
    "    epochs = 15\n",
    "\n",
    "    model.compile(loss=\"categorical_crossentropy\", optimizer=\"adam\", metrics=[\"accuracy\"])\n",
    "\n",
    "    model.fit(x_train, y_train, batch_size=batch_size, epochs=epochs, validation_split=0.1)\n",
    "    \n",
    "    score = model.evaluate(x_test, y_test, verbose=0)\n",
    "    print(\"Test loss:\", score[0])\n",
    "    print(\"Test accuracy:\", score[1])\n",
    "    \n",
    "    return model\n",
    "\n",
    "def test_model(MAB):\n",
    "\n",
    "    (x_train, y_train), (x_test, y_test) = keras.datasets.mnist.load_data()\n",
    "\n",
    "    # Scale images to the [0, 1] range\n",
    "    x_train = x_train.astype(\"float32\") / 255\n",
    "    x_test = x_test.astype(\"float32\") / 255\n",
    "    # Make sure images have shape (28, 28, 1)\n",
    "    x_train = np.expand_dims(x_train, -1)\n",
    "    x_test = np.expand_dims(x_test, -1)\n",
    "\n",
    "    regret = np.zeros(int(np.shape(x_train)[0]/1000))\n",
    "\n",
    "    for i in range(int(np.shape(x_train)[0]/1000)):\n",
    "        y_train[i] = 5\n",
    "\n",
    "        arms = MAB.choose_arms()\n",
    "        error = np.zeros(arms.shape[0])\n",
    "        for j in range(arms.shape[0]):\n",
    "            arm = arms[j]\n",
    "            error[j] = np.absolute(arm - y_train[i])\n",
    "        total_error = np.sum(error)-1\n",
    "        reward = -total_error\n",
    "        MAB.set_reward(arms, reward)\n",
    "        if i>0:\n",
    "            regret[i] = total_error + regret[i-1]\n",
    "        else:\n",
    "            regret[i] = total_error\n",
    "    \n",
    "    return regret\n"
   ]
  },
  {
   "cell_type": "code",
   "execution_count": 125,
   "metadata": {
    "scrolled": true
   },
   "outputs": [],
   "source": [
    "arms = 10\n",
    "k = 3\n",
    "MAB_max_expectation = MAB(arms,k,None,'max_expectation')\n",
    "MAB_epsilon_greedy = MAB(arms,k,None,'epsilon_greedy')\n",
    "MAB_random = MAB(arms,k,None,'rand')\n",
    "MAB_optimal = MAB(arms,k,None,'optimal')\n"
   ]
  },
  {
   "cell_type": "code",
   "execution_count": 126,
   "metadata": {
    "scrolled": true
   },
   "outputs": [],
   "source": [
    "regret_max_expectation = test_model(MAB_max_expectation)\n",
    "regret_epsilon_greedy = test_model(MAB_epsilon_greedy)\n",
    "regret_random = test_model(MAB_random)\n",
    "regret_optimal = test_model(MAB_optimal)\n",
    "        "
   ]
  },
  {
   "cell_type": "code",
   "execution_count": 127,
   "metadata": {
    "scrolled": false
   },
   "outputs": [
    {
     "data": {
      "image/png": "[encoded data removed]",
      "text/plain": [
       "<Figure size 432x288 with 1 Axes>"
      ]
     },
     "metadata": {
      "needs_background": "light"
     },
     "output_type": "display_data"
    }
   ],
   "source": [
    "plt.plot(range(len(regret_ex)),regret_max_expectation,\n",
    "         range(len(regret_epsilon_greedy)),regret_epsilon_greedy,\n",
    "         range(len(regret_random)),regret_random,\n",
    "         range(len(regret_optimal)),regret_optimal)\n",
    "plt.legend(['max expectation','epsilon greedy','random','optimal'])\n",
    "plt.title('Regret of Top k-Ranking')\n",
    "plt.show()    "
   ]
  },
  {
   "cell_type": "code",
   "execution_count": null,
   "metadata": {},
   "outputs": [],
   "source": []
  },
  {
   "cell_type": "code",
   "execution_count": null,
   "metadata": {},
   "outputs": [],
   "source": []
  }
 ],
 "metadata": {
  "kernelspec": {
   "display_name": "Python 3",
   "language": "python",
   "name": "python3"
  },
  "language_info": {
   "codemirror_mode": {
    "name": "ipython",
    "version": 3
   },
   "file_extension": ".py",
   "mimetype": "text/x-python",
   "name": "python",
   "nbconvert_exporter": "python",
   "pygments_lexer": "ipython3",
   "version": "3.7.9"
  }
 },
 "nbformat": 4,
 "nbformat_minor": 4
}
