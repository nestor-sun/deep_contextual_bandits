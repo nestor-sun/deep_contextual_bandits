{
 "cells": [
  {
   "cell_type": "code",
   "execution_count": 63,
   "metadata": {},
   "outputs": [],
   "source": [
    "%matplotlib inline\n",
    "\n",
    "import matplotlib as mpl\n",
    "import matplotlib.pyplot as plt\n",
    "\n",
    "import numpy as np\n",
    "import itertools\n",
    "from itertools import permutations\n",
    "from tensorflow import keras\n",
    "\n",
    "\n",
    "# Top k-Ranking \n",
    "\n",
    "class MAB:\n",
    "    rewards = []\n",
    "    def __init__(self, arms_len):\n",
    "        self.arms_len = arms_len\n",
    "        self.rewards = []\n",
    "        self.arms_expectation = np.zeros(self.arms_len)\n",
    "        self.arms_expectation_counts = np.zeros(self.arms_len)\n",
    "        \n",
    "    def choose_arm(self, context):\n",
    "                \n",
    "        max_expect_arm = -1*np.Inf\n",
    "        max_expect_arm_index = np.NAN\n",
    "        for i in range(self.arms_len):\n",
    "            if self.arms_expectation[i]/self.arms_expectation_counts[i] > max_expect_arm:\n",
    "                max_expect_arm = self.arms_expectation[i]/self.arms_expectation_counts[i]\n",
    "                max_expect_arm_index = i\n",
    "                \n",
    "        if np.isnan(max_expect_arm_index):\n",
    "            return np.random.randint(0,high=self.arms_len)\n",
    "        else:\n",
    "            return max_expect_arm_index\n",
    "            \n",
    "                \n",
    "        if 0 <= context and context <= self.arms_len-1:\n",
    "            return context\n",
    "        else:\n",
    "            return np.random.randint(0,high=self.arms_len)\n",
    "\n",
    "    def set_reward(self, context, arm, reward):\n",
    "        arm = int(arm)\n",
    "        self.rewards.append((context, arm, reward))\n",
    "        self.arms_expectation[arm] += reward\n",
    "        self.arms_expectation_counts[arm] += 1\n",
    "\n",
    "MAB = MAB(10)\n",
    "\n",
    "max_error = 9\n",
    "\n",
    "def get_ranking(k, context, history):\n",
    "\n",
    "    # context is user and/or search string\n",
    "\n",
    "    choosen_arms = np.zeros(arms_len)\n",
    "    ranking = np.zeros(k)\n",
    "\n",
    "    for i in range(k):\n",
    "        ranking[i] = MAB(np.concatenate(context,choosen_arms), history) # chooses an arm from the context \n",
    "\n",
    "        choosen_arms[ranking[i]] = 1\n",
    "\n",
    "    return ranking\n"
   ]
  },
  {
   "cell_type": "code",
   "execution_count": 64,
   "metadata": {},
   "outputs": [
    {
     "name": "stderr",
     "output_type": "stream",
     "text": [
      "C:\\Users\\Micha\\anaconda3\\envs\\py3.7\\lib\\site-packages\\ipykernel_launcher.py:27: RuntimeWarning: invalid value encountered in double_scalars\n"
     ]
    },
    {
     "name": "stdout",
     "output_type": "stream",
     "text": [
      "[2.00000e+00 9.00000e+00 1.20000e+01 ... 1.88260e+05 1.88261e+05\n",
      " 1.88262e+05]\n"
     ]
    },
    {
     "data": {
      "image/png": "[encoded data removed]",
      "text/plain": [
       "<Figure size 432x288 with 1 Axes>"
      ]
     },
     "metadata": {
      "needs_background": "light"
     },
     "output_type": "display_data"
    }
   ],
   "source": [
    "\n",
    "(x_train, y_train), (x_test, y_test) = keras.datasets.mnist.load_data()\n",
    "\n",
    "regret = np.zeros(np.shape(x_train)[0])\n",
    "\n",
    "x_train = np.zeros(np.shape(x_train)[0])\n",
    "\n",
    "for i in range(np.shape(x_train)[0]):\n",
    "    if i > np.shape(x_train)[0]/2:\n",
    "        x_train[i] = y_train[i] + np.random.randint(-1,high=2,size=1)\n",
    "    else:\n",
    "        x_train[i] = y_train[i]\n",
    "\n",
    "for i in range(np.shape(x_train)[0]):\n",
    "    arm = MAB.choose_arm(x_train[i])\n",
    "    error = np.absolute(arm - y_train[i])\n",
    "    reward = max_error - error\n",
    "    MAB.set_reward(x_train[i], arm, reward)\n",
    "    if i>0:\n",
    "        regret[i] = max_error - reward + regret[i-1]\n",
    "    else:\n",
    "        regret[i] = max_error - reward\n",
    "\n",
    "print(regret)\n",
    "\n",
    "plt.plot(regret)\n",
    "plt.show()\n"
   ]
  },
  {
   "cell_type": "code",
   "execution_count": null,
   "metadata": {},
   "outputs": [],
   "source": []
  },
  {
   "cell_type": "code",
   "execution_count": null,
   "metadata": {},
   "outputs": [],
   "source": []
  }
 ],
 "metadata": {
  "kernelspec": {
   "display_name": "Python 3",
   "language": "python",
   "name": "python3"
  },
  "language_info": {
   "codemirror_mode": {
    "name": "ipython",
    "version": 3
   },
   "file_extension": ".py",
   "mimetype": "text/x-python",
   "name": "python",
   "nbconvert_exporter": "python",
   "pygments_lexer": "ipython3",
   "version": "3.7.9"
  }
 },
 "nbformat": 4,
 "nbformat_minor": 4
}
