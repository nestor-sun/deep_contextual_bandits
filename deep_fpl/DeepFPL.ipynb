{
 "cells": [
  {
   "cell_type": "code",
   "execution_count": 6,
   "metadata": {
    "cellView": "form",
    "executionInfo": {
     "elapsed": 72999,
     "status": "ok",
     "timestamp": 1603173386322,
     "user": {
      "displayName": "",
      "photoUrl": "",
      "userId": ""
     },
     "user_tz": 420
    },
    "id": "dUrLMhAcZYDY",
    "outputId": "9eea81fc-510f-4978-80b5-33318bc15241"
   },
   "outputs": [
    {
     "name": "stdout",
     "output_type": "stream",
     "text": [
      "python 3.8.3\n",
      "matplotlib 3.2.2\n"
     ]
    }
   ],
   "source": [
    "#@title Imports and defaults\n",
    "%matplotlib inline\n",
    "\n",
    "#from google3.pyglib import gfile\n",
    "import itertools\n",
    "import matplotlib as mpl\n",
    "import matplotlib.pyplot as plt\n",
    "import numpy as np\n",
    "import time\n",
    "\n",
    "mpl.style.use(\"classic\")\n",
    "mpl.rcParams[\"figure.figsize\"] = [5, 3]\n",
    "\n",
    "mpl.rcParams[\"axes.linewidth\"] = 0.75\n",
    "mpl.rcParams[\"grid.linewidth\"] = 0.75\n",
    "mpl.rcParams[\"lines.linewidth\"] = 0.75\n",
    "mpl.rcParams[\"patch.linewidth\"] = 0.75\n",
    "mpl.rcParams[\"xtick.major.size\"] = 3\n",
    "mpl.rcParams[\"ytick.major.size\"] = 3\n",
    "\n",
    "mpl.rcParams[\"pdf.fonttype\"] = 42\n",
    "mpl.rcParams[\"ps.fonttype\"] = 42\n",
    "mpl.rcParams[\"font.size\"] = 7\n",
    "mpl.rcParams[\"axes.titlesize\"] = \"medium\"\n",
    "mpl.rcParams[\"legend.fontsize\"] = \"medium\"\n",
    "\n",
    "import platform\n",
    "print(\"python %s\" % platform.python_version())\n",
    "print(\"matplotlib %s\" % mpl.__version__)\n",
    "\n",
    "#from colabtools import adhoc_import\n",
    "#with adhoc_import.Google3CitcClient(\"bandits\", \"bkveton\"):\n",
    "#  from google3.experimental.users.bkveton.bandits.deep import *\n",
    "#import deep\n",
    "from deep import *\n",
    "\n",
    "def linestyle2dashes(style):\n",
    "  if style == \"--\":\n",
    "    return (3, 3)\n",
    "  elif style == \":\":\n",
    "    return (0.5, 2.5)\n",
    "  else:\n",
    "    return (None, None)"
   ]
  },
  {
   "cell_type": "code",
   "execution_count": 4,
   "metadata": {
    "cellView": "form",
    "executionInfo": {
     "elapsed": 350,
     "status": "ok",
     "timestamp": 1603173386675,
     "user": {
      "displayName": "",
      "photoUrl": "",
      "userId": ""
     },
     "user_tz": 420
    },
    "id": "VKdLJL8jfnO4"
   },
   "outputs": [],
   "source": [
    "#@title Bandit simulator\n",
    "def evaluate_one(Alg, params, env, n, period_size=1):\n",
    "  \"\"\"One run of a bandit algorithm.\"\"\"\n",
    "  alg = Alg(env, n, params)\n",
    "\n",
    "  regret = np.zeros(n // period_size)\n",
    "  for t in range(n):\n",
    "    # generate state\n",
    "    env.randomize()\n",
    "\n",
    "    # take action\n",
    "    arm = alg.get_arm(t)\n",
    "\n",
    "    # update model and regret\n",
    "    alg.update(t, arm, env.reward(arm))\n",
    "    regret_at_t = env.regret(arm)\n",
    "    regret[t // period_size] += regret_at_t\n",
    "\n",
    "  return regret, alg\n",
    "\n",
    "\n",
    "def evaluate(Alg, params, env, n=1000, period_size=1, printout=True):\n",
    "  \"\"\"Multiple runs of a bandit algorithm.\"\"\"\n",
    "  if printout:\n",
    "    print(\"Evaluating %s\" % Alg.print(), end=\"\")\n",
    "  start = time.time()\n",
    "\n",
    "  num_exps = len(env)\n",
    "  regret = np.zeros((n // period_size, num_exps))\n",
    "  alg = num_exps * [None]\n",
    "\n",
    "  dots = np.linspace(0, num_exps - 1, 100).astype(int)\n",
    "  for ex in range(num_exps):\n",
    "    output = evaluate_one(Alg, params, env[ex], n, period_size)\n",
    "    regret[:, ex] = output[0]\n",
    "    alg[ex] = output[1]\n",
    "\n",
    "    if ex in dots:\n",
    "      if printout:\n",
    "        print(\".\", end=\"\")\n",
    "  if printout:\n",
    "    print(\" %.1f seconds\" % (time.time() - start))\n",
    "\n",
    "  if printout:\n",
    "    total_regret = regret.sum(axis=0)\n",
    "    print(\"Regret: %.2f +/- %.2f (median: %.2f, max: %.2f, min: %.2f)\" %\n",
    "      (total_regret.mean(), total_regret.std() / np.sqrt(num_exps),\n",
    "      np.median(total_regret), total_regret.max(), total_regret.min()))\n",
    "\n",
    "  return regret, alg"
   ]
  },
  {
   "cell_type": "code",
   "execution_count": null,
   "metadata": {
    "cellView": "both",
    "colab": {
     "height": 1000
    },
    "executionInfo": {
     "elapsed": 2289994,
     "status": "ok",
     "timestamp": 1603175676671,
     "user": {
      "displayName": "",
      "photoUrl": "",
      "userId": ""
     },
     "user_tz": 420
    },
    "id": "yI_rP5VL5Ke9",
    "outputId": "575788b3-cdf7-4cdc-9ee0-07b221f33285"
   },
   "outputs": [
    {
     "name": "stdout",
     "output_type": "stream",
     "text": [
      "python 3.8.3\n",
      "tf 2.3.1\n",
      "keras 2.4.0\n",
      "Preprocessing dataset mnist...\n",
      "60000 examples, 784 features, 10 labels\n",
      "Evaluating DeepFPL. 78.7 seconds\n",
      "Regret: 5347.00 +/- 0.00 (median: 5347.00, max: 5347.00, min: 5347.00)\n",
      "Reward in last 1000 rounds: 533.00 +/- 0.00\n",
      "Evaluating DeepFPL. 32.9 seconds\n",
      "Regret: 5535.00 +/- 0.00 (median: 5535.00, max: 5535.00, min: 5535.00)\n",
      "Reward in last 1000 rounds: 570.00 +/- 0.00\n",
      "Evaluating NeuralLinear. 48.9 seconds\n",
      "Regret: 5227.00 +/- 0.00 (median: 5227.00, max: 5227.00, min: 5227.00)\n",
      "Reward in last 1000 rounds: 555.00 +/- 0.00\n"
     ]
    },
    {
     "data": {
      "image/png": "[encoded data removed]",
      "text/plain": [
       "<Figure size 400x240 with 1 Axes>"
      ]
     },
     "metadata": {},
     "output_type": "display_data"
    },
    {
     "name": "stdout",
     "output_type": "stream",
     "text": [
      "python 3.8.3\n",
      "tf 2.3.1\n",
      "keras 2.4.0\n",
      "Preprocessing dataset fashion_mnist...\n",
      "60000 examples, 784 features, 10 labels\n",
      "Evaluating DeepFPL. 36.1 seconds\n",
      "Regret: 4900.00 +/- 0.00 (median: 4900.00, max: 4900.00, min: 4900.00)\n",
      "Reward in last 1000 rounds: 505.00 +/- 0.00\n",
      "Evaluating DeepFPL. 41.4 seconds\n",
      "Regret: 5233.00 +/- 0.00 (median: 5233.00, max: 5233.00, min: 5233.00)\n",
      "Reward in last 1000 rounds: 533.00 +/- 0.00\n",
      "Evaluating NeuralLinear"
     ]
    }
   ],
   "source": [
    "# experiments\n",
    "#num_runs = 20\n",
    "num_runs = 1\n",
    "n = 10000\n",
    "\n",
    "# neural nets\n",
    "hidden_nodes = \"50\"\n",
    "hidden_activation = \"relu\"\n",
    "optimizer = \"adam\"\n",
    "lr = 0.001\n",
    "batch_size = 32\n",
    "deeps = [\n",
    "  (\"DeepFPL\",\n",
    "  {\"hidden_nodes\": hidden_nodes, \"hidden_activation\": hidden_activation,\n",
    "  \"optimizer\": optimizer, \"lr\": lr, \"batch_size\": batch_size},\n",
    "  \"blue\", \"-\", \"DeepFL\"),\n",
    "  (\"DeepFPL\",\n",
    "  {\"hidden_nodes\": hidden_nodes, \"hidden_activation\": hidden_activation,\n",
    "  \"optimizer\": optimizer, \"lr\": lr, \"batch_size\": batch_size, \"a\": 1.0},\n",
    "  \"red\", \"-\", \"DeepFPL\"),\n",
    "  (\"NeuralLinear\",\n",
    "  {\"hidden_nodes\": hidden_nodes, \"hidden_activation\": hidden_activation,\n",
    "  \"lr\": lr, \"batch_size\": batch_size, \"a\": 1.0, \"relepe\": int(0.05 * n)},\n",
    "  \"cyan\", \"-\", \"NeuralLinear 5%\")]\n",
    "\n",
    "step = 100 * (np.arange(n // 100) + 1)\n",
    "sube = (step.size // 10) * np.arange(1, 11) - 1\n",
    "\n",
    "for dataset in [\"mnist\", \"fashion_mnist\"]:\n",
    "  # create environment\n",
    "  X, y = load_dataset(dataset)\n",
    "  num_labels = int(y.max()) + 1\n",
    "\n",
    "  for alg in deeps:\n",
    "    env = []\n",
    "    for run in range(num_runs):\n",
    "      c = run % num_labels\n",
    "      env.append(BinaryClassBandit(X, y, pos_label=c, K=10, pos_prob=0.75))\n",
    "\n",
    "    alg_class = globals()[alg[0]]\n",
    "    reward, _ = evaluate(alg_class, alg[1], env, n)\n",
    "    print(\"Reward in last %d rounds: %.2f +/- %.2f\" %\n",
    "      (n // 10, reward[- n // 10 :, :].sum(axis=0).mean(), \\\n",
    "      reward[- n // 10 :, :].sum(axis=0).std() / np.sqrt(num_runs)))\n",
    "\n",
    "    cum_reward = reward.cumsum(axis=0)[step - 1, :] / step[:, np.newaxis]\n",
    "    plt.plot(step, cum_reward.mean(axis=1),\n",
    "      alg[2], dashes=linestyle2dashes(alg[3]), label=alg[4])\n",
    "    plt.errorbar(step[sube], cum_reward[sube, :].mean(axis=1),\n",
    "      cum_reward[sube, :].std(axis=1) / np.sqrt(cum_reward.shape[1]),\n",
    "      fmt=\"none\", ecolor=alg[2])\n",
    "\n",
    "  plt.title(\"%s\" % dataset)\n",
    "  plt.xlabel(\"Round n\")\n",
    "  plt.ylabel(\"Reward\")\n",
    "  plt.legend(loc=\"lower right\", frameon=False)\n",
    "  plt.show()"
   ]
  },
  {
   "cell_type": "code",
   "execution_count": 12,
   "metadata": {},
   "outputs": [
    {
     "data": {
      "text/plain": [
       "(10, 784)"
      ]
     },
     "execution_count": 12,
     "metadata": {},
     "output_type": "execute_result"
    }
   ],
   "source": [
    "env[0].X.shape"
   ]
  },
  {
   "cell_type": "code",
   "execution_count": null,
   "metadata": {},
   "outputs": [],
   "source": []
  }
 ],
 "metadata": {
  "colab": {
   "collapsed_sections": [],
   "last_runtime": {
    "build_target": "//learning/deepmind/public/tools/ml_python:ml_notebook",
    "kind": "private"
   },
   "name": "DeepFPL.ipynb",
   "provenance": [
    {
     "file_id": "/piper/depot/google3/experimental/users/bkveton/PHE/BinaryClass.ipynb?workspaceId=bkveton:bandits::citc",
     "timestamp": 1603166746522
    },
    {
     "file_id": "/piper/depot/google3/experimental/users/bkveton/PHE/Deep/DeepIris.ipynb?workspaceId=bkveton:bandits::citc",
     "timestamp": 1553981440773
    },
    {
     "file_id": "/piper/depot/google3/experimental/users/bkveton/PHE/Deep/DeepLetterRecognition.ipynb?workspaceId=bkveton:bandits::citc",
     "timestamp": 1553958812269
    },
    {
     "file_id": "/piper/depot/google3/experimental/users/bkveton/PHE/Deep/DeepPHE.ipynb?workspaceId=bkveton:bandits::citc",
     "timestamp": 1553899484883
    },
    {
     "file_id": "/piper/depot/google3/experimental/users/bkveton/PHE/LinPHE.ipynb?workspaceId=bkveton:custom_colab::citc",
     "timestamp": 1549082664834
    },
    {
     "file_id": "1tDjLRLsjR0h7AGAXwuF1FvrdylfiMRYV",
     "timestamp": 1545173695315
    },
    {
     "file_id": "1nH2KirlUdRSICZfpn0XrH2CBOqIL6brP",
     "timestamp": 1541137118545
    },
    {
     "file_id": "1LhE7RPIsiVHxKVhhQ_ddNwtL78yqsrZi",
     "timestamp": 1537332805316
    },
    {
     "file_id": "1hGOquMsYlCi0_oDMIM_IlidSI7sPWoYF",
     "timestamp": 1536892738296
    },
    {
     "file_id": "11k4kxddvtZjrTYpnuJP549znnEadfMNL",
     "timestamp": 1535848084981
    }
   ]
  },
  "kernelspec": {
   "display_name": "Python 3",
   "language": "python",
   "name": "python3"
  },
  "language_info": {
   "codemirror_mode": {
    "name": "ipython",
    "version": 3
   },
   "file_extension": ".py",
   "mimetype": "text/x-python",
   "name": "python",
   "nbconvert_exporter": "python",
   "pygments_lexer": "ipython3",
   "version": "3.8.3"
  }
 },
 "nbformat": 4,
 "nbformat_minor": 1
}
